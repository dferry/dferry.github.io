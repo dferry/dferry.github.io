{
  "nbformat": 4,
  "nbformat_minor": 0,
  "metadata": {
    "colab": {
      "provenance": []
    },
    "kernelspec": {
      "name": "python3",
      "display_name": "Python 3"
    },
    "language_info": {
      "name": "python"
    }
  },
  "cells": [
    {
      "cell_type": "markdown",
      "source": [
        "# **Introduction to Python**\n",
        "\n",
        "Computers can do amazing things, but it all starts with a ***program*** or ***code*** written by a person. Writing code might sound hard, but don't worry! It's not! Writing large, complex software can be very difficult, which is why we have specialists like ***software developers*** and ***software engineers***. If you like programming, maybe you could be trained to be a software engineer too!\n",
        "\n",
        "Anybody can write small programs. A lot of people think it's every bit as fun as working out a puzzle or solving a riddle. "
      ],
      "metadata": {
        "id": "Yt5gvXg-Wwh1"
      }
    },
    {
      "cell_type": "code",
      "source": [
        "\n",
        "print( \"Hello, world!\" )\n"
      ],
      "metadata": {
        "id": "2E230e6pZwte"
      },
      "execution_count": null,
      "outputs": []
    },
    {
      "cell_type": "markdown",
      "source": [
        "The box above is a little bit of code that I have written for you. If you move your mouse cursor over it,  you'll see a little \"play\" icon to the left of the word \"print.\" Click that icon, and the computer will ***run*** the code. (The first time you click a play icon it might take a few moments to get started.)\n",
        "\n",
        "Is this your first time running computer code? If so, congratulations! Welcome to the club! You can run your code multiple times- move your mouse cursor over the output and you will see a little box with an arrow. That button will let you erase the output and run the code again."
      ],
      "metadata": {
        "id": "0pV1TqDbaDCa"
      }
    },
    {
      "cell_type": "code",
      "source": [
        "\n",
        "instructor = \"David Ferry\"\n",
        "pronoun = \"He\"\n",
        "height_in_inches = 72\n",
        "\n",
        "print( \"The person teaching today is\", instructor )\n",
        "print( pronoun, \"is\", height_in_inches, \"inches tall\" )\n",
        " "
      ],
      "metadata": {
        "id": "1toKc_BQcXqe"
      },
      "execution_count": null,
      "outputs": []
    },
    {
      "cell_type": "markdown",
      "source": [
        "Computers are really good at handling information. It's no coincidence that many companies and universities have a Department of Information Technology to support their computer systems.\n",
        "\n",
        "In the above code, `instructor`, `pronoun`, and `height_in_inches` are called ***variables***. Variables let the computer store a single value- a single piece of information. The first two variables store text data, what programmers call a ***string***. The third variable stores a number. Try running this code as well. \n",
        "\n",
        "\n",
        "\n",
        "---\n",
        "\n"
      ],
      "metadata": {
        "id": "CJQ2Ki7XeNBs"
      }
    },
    {
      "cell_type": "markdown",
      "source": [
        "# **Exercise 1** - Variables"
      ],
      "metadata": {
        "id": "lSuUR6UtuaDM"
      }
    },
    {
      "cell_type": "markdown",
      "source": [
        "This next box of code is not complete. If you run it now, you'll get an ***error***. Try it! Don't worry about errors- you'll never break anything, and you can always clear the output and run the box again. \n",
        "\n",
        "Thinking is the most important part of programming! You might be mislead into thinking that the important part is getting code that runs correctly. It's not. The most important part of programming is understanding code and convincing yourself that the code you write is correct. What do you think this code box is supposed to do?\n",
        "\n",
        " Look carefully at the two examples we have so far and provide a value to the `shirt_color` variable so that this box runs. Click on the code box, and you'll get a cursor you can use to start typing."
      ],
      "metadata": {
        "id": "LjvWh8gKh8eg"
      }
    },
    {
      "cell_type": "code",
      "source": [
        "\n",
        "instructor = \"David Ferry\"\n",
        "shirt_color = \n",
        "\n",
        "print( instructor, \"is wearing a\", shirt_color, \"shirt today\")\n"
      ],
      "metadata": {
        "id": "esQBVvHpg_0x"
      },
      "execution_count": null,
      "outputs": []
    },
    {
      "cell_type": "markdown",
      "source": [
        "\n",
        "\n",
        "---\n",
        "\n"
      ],
      "metadata": {
        "id": "9lFBTl3av7x7"
      }
    },
    {
      "cell_type": "markdown",
      "source": [
        "# **Exercise 2** - Arithmetic"
      ],
      "metadata": {
        "id": "_P379JRxv-NX"
      }
    },
    {
      "cell_type": "markdown",
      "source": [
        "We already said that computers are prized for their ability to do information processing. The heart of this ability is doing ***operations*** on data. We can manipulate variables in many useful ways. For example, if we have two numeric values, we can combine them with the usual arithmetic operators. Run the cell below, and take a moment to identify which symbol does which kind of arithmetic."
      ],
      "metadata": {
        "id": "zTl9vNl5wC2y"
      }
    },
    {
      "cell_type": "code",
      "source": [
        "\n",
        "alice = 10\n",
        "bob = 7\n",
        "\n",
        "print( alice + bob )\n",
        "print( alice - bob )\n",
        "print( alice * bob )\n",
        "print( alice / bob )\n"
      ],
      "metadata": {
        "id": "G-ahPsluxdq3"
      },
      "execution_count": null,
      "outputs": []
    },
    {
      "cell_type": "markdown",
      "source": [
        "We don't just do arithmetic for the sake of arithmetic, though. We do it to help us solve problems. For example, computers are great at applying formulas:"
      ],
      "metadata": {
        "id": "krsYMrdayL3T"
      }
    },
    {
      "cell_type": "code",
      "source": [
        "\n",
        "rate = 60  # Miles per hour\n",
        "time = 5   # Hours\n",
        "\n",
        "distance = rate * time # The result is in miles\n",
        "\n",
        "print( \"You travel\", distance, \"miles by driving\", rate, \"miles per hour for\", time, \"hours\" )\n"
      ],
      "metadata": {
        "id": "YiQIMs_w0qw_"
      },
      "execution_count": null,
      "outputs": []
    },
    {
      "cell_type": "markdown",
      "source": [
        "Note that we introduced something new in the previous box- a ***code comment***. These are really helpful (essential, even) for writing code that is understandable. In Python, everything on a line after an octothorpe is ignored by the computer (the # symbol, also known as a hashtag these days). You can write whatever you want in comments- they're very useful for taking notes.\n",
        "\n",
        "Now that we've seen a few tricks, I want you to write an entire code box entirely by yourself. Your code box is going to convert Fahrenheit degrees to Celsius degrees. Start by defining a variable called `degrees_F`. Your code should convert that variable to Celsius, and print a statement like:\n",
        "\n",
        "`212 degrees Fahrenheit is equivalent to 100 degrees Celsius`\n",
        "\n",
        "The conversion formula is:\n",
        "\n",
        "![temp.png](data:image/png;base64,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)\n",
        "\n",
        "Take it slow and feel free to ask the instructor for help! "
      ],
      "metadata": {
        "id": "uBbXfHcP1pB7"
      }
    },
    {
      "cell_type": "code",
      "source": [
        "\n",
        "# Converting Fahrenheit to Celsius\n",
        "# Start by defining an input variable\n",
        "\n",
        "\n",
        "# Then write the conversion formula in code\n",
        "\n",
        "\n",
        "# And finally print out the result\n",
        "\n"
      ],
      "metadata": {
        "id": "Vclm99Sp4Hva"
      },
      "execution_count": null,
      "outputs": []
    },
    {
      "cell_type": "markdown",
      "source": [
        "\n",
        "\n",
        "---\n",
        "\n",
        "# **Exercise 3** - Using Functions\n",
        "\n",
        "\"If I have seen further, it is by standing on the shoulders of giants.\"\n",
        "\n",
        "--- Issac Newton\n",
        "\n",
        "One of the most important aspects of computer programming is how we can write code so that it can be used by others. In some fields you need significant training or experience just to get started with the practical work. In computer programming, we benefit from all those who came before and left us nice and tidy little packages of code to use. In fact, most of the code you will ever \"use\" won't be written by you. It is provided to you, free of charge and obligation, by others who think that sharing code is a good idea.\n",
        "\n",
        "One of the most common and convenient ways to share code is to use ***functions***. We have already used one function- the `print()` function that takes a set of statements or values and shows them. Functions are set apart from other code by the presence of the parentheses `(` and `)`. Those parentheses are a tip to the computer that the name `print()` refers to a function and not a variable with the name `print`.\n",
        "\n",
        "We will be using a lot of functions in this class. Here are a few examples for you to try:"
      ],
      "metadata": {
        "id": "hukKhz_Y6D8F"
      }
    },
    {
      "cell_type": "code",
      "source": [
        "import random\n",
        "\n",
        "# Generates a random number between 0 and 1, try it a few times\n",
        "random.random()"
      ],
      "metadata": {
        "id": "UP0A7b2kJMZ-"
      },
      "execution_count": null,
      "outputs": []
    },
    {
      "cell_type": "code",
      "source": [
        "import random\n",
        "\n",
        "# Generates a random integer between 0 and 10\n",
        "random.randint(0, 10)"
      ],
      "metadata": {
        "id": "X7-nRoAgKYI8"
      },
      "execution_count": null,
      "outputs": []
    },
    {
      "cell_type": "code",
      "source": [
        "import random\n",
        "\n",
        "# Generates a random integer between 5 and 10\n",
        "random.randint(5, 10)"
      ],
      "metadata": {
        "id": "g9OY09gPKnRC"
      },
      "execution_count": null,
      "outputs": []
    },
    {
      "cell_type": "code",
      "source": [
        "import math\n",
        "\n",
        "pi = math.pi\n",
        "\n",
        "print( pi )\n",
        "print( math.cos(0) )\n",
        "print( math.cos(pi) )\n"
      ],
      "metadata": {
        "id": "rKouaOP8Ktbw"
      },
      "execution_count": null,
      "outputs": []
    },
    {
      "cell_type": "markdown",
      "source": [
        "There are a few things to explain about the above examples. First, we have the statement:\n",
        "\n",
        "`import random`\n",
        "\n",
        "Most of the functions we use are bundled as a part of a ***module***. A module can also include variable definitions- see for example the definition of pi in the cosine box above. Modules help organize and clarify our work- there are literally thousands of functions you might want to use, and this has led to lots of confusion in the past. In general, you are required to ***import*** a module before you are allowed to use it, and then you must specify the name each time you use it.\n",
        "\n",
        "Thus, the `randint()` function lives in the `random` module, so to use that function we say `random.randint()`. \n",
        "\n",
        "Again I'd like you to use the examples above to write some code. First, we need to install some software into the notebook. Run the box below- you only need to do this once."
      ],
      "metadata": {
        "id": "KPaVjIlNLY3p"
      }
    },
    {
      "cell_type": "code",
      "source": [
        "pip install art"
      ],
      "metadata": {
        "colab": {
          "base_uri": "https://localhost:8080/"
        },
        "id": "phfb30vdPp3K",
        "outputId": "be0bb4c2-e03c-4017-9747-aacbc37e106b"
      },
      "execution_count": 82,
      "outputs": [
        {
          "output_type": "stream",
          "name": "stdout",
          "text": [
            "Looking in indexes: https://pypi.org/simple, https://us-python.pkg.dev/colab-wheels/public/simple/\n",
            "Requirement already satisfied: art in /usr/local/lib/python3.7/dist-packages (5.7)\n"
          ]
        }
      ]
    },
    {
      "cell_type": "markdown",
      "source": [
        "Now, in the box below, I want you to:\n",
        "\n",
        "1.   Import the module called `art`\n",
        "2.   Call the function `art(\"random\")` from the `art` module. Be careful here- both the module and the function have the same name, but you have to name them both."
      ],
      "metadata": {
        "id": "wIxkynHYWJ0c"
      }
    },
    {
      "cell_type": "code",
      "source": [
        "# First, import the module called art\n",
        "\n",
        "\n",
        "# Next, run the function art(\"random\") from the art module\n",
        "# Feel free to run it multiple times\n",
        "\n"
      ],
      "metadata": {
        "id": "EUTe2cNNWuTQ"
      },
      "execution_count": null,
      "outputs": []
    },
    {
      "cell_type": "markdown",
      "source": [
        "Similarly, in the box below, I want you to:\n",
        "\n",
        "1.   Import the module called `art`\n",
        "2.   Call the function `tprint(\"example\", \"random\")` from the `art` module\n",
        "\n"
      ],
      "metadata": {
        "id": "vInYme1yXEof"
      }
    },
    {
      "cell_type": "code",
      "source": [
        "# First, import the module called art\n",
        "\n",
        "\n",
        "# Next, run the function tprint(\"example\", \"random\") from the art module\n",
        "# Feel free to run it multiple times"
      ],
      "metadata": {
        "id": "apl9gZscXVnm"
      },
      "execution_count": null,
      "outputs": []
    },
    {
      "cell_type": "markdown",
      "source": [
        "Those are both pretty silly examples. Maybe something more practical. This time:\n",
        "\n",
        "1.   Import the module called `datetime`\n",
        "2.   Call the function `date.today()` from the `datetime` module\n",
        "\n"
      ],
      "metadata": {
        "id": "UwhhIRKRX8DT"
      }
    },
    {
      "cell_type": "code",
      "source": [
        "# First, import the module called datetime\n",
        "\n",
        "\n",
        "# Next, run the function date.today() from the datetime module\n",
        "\n"
      ],
      "metadata": {
        "id": "k6AQIE9xYWou"
      },
      "execution_count": null,
      "outputs": []
    },
    {
      "cell_type": "markdown",
      "source": [
        "\n",
        "\n",
        "---\n",
        "\n",
        "# **Exercise 4** - Playing with a Turtle\n",
        "\n",
        "An ***algorithm*** is a fixed procedure for accomplishing something. Algorithms are the bread and butter of computer programmers- computers are machines that can only follow fixed sets of instructions, so anything you hope to accomplish with a computer needs to be expressible as an algorithm.\n",
        "\n",
        "Taylor the Turtle is going to help us with this concept. Taylor is a special turtle- Taylor has learned to follow simple commands, and Taylor has an assortment of drawing pens.\n",
        "\n",
        "First, run the box below to get Taylor up and running. You only need to run it once."
      ],
      "metadata": {
        "id": "FWlB3jWsYkb0"
      }
    },
    {
      "cell_type": "code",
      "source": [
        "!pip install ColabTurtle\n",
        "from ColabTurtle.Turtle import *"
      ],
      "metadata": {
        "id": "MR6OQmHaZeqa"
      },
      "execution_count": null,
      "outputs": []
    },
    {
      "cell_type": "markdown",
      "source": [
        "Taylor is now ready to go!\n",
        "\n",
        "Taylor understands **simple** commands, with extra emphasis on simple. Taylor understands `forward()`, which is the command to walk forward. The number passed to `forward()` controls the length Taylor walks, but that number doesn't have any real meaning- it's not millimeters or pixels or anything else... just experiment and you'll get a feel for it. Taylor also understands the commands `left()` and `right()`. These cause Taylor to turn left or right by the specified number of degrees. For example, `right(90)` causes Taylor to make a perfect right turn. Taylor also understands `backward()`, which works the same as `forward()`.\n",
        "\n",
        "Taylor also loves those drawing pens. The command `color()` will cause Taylor to pull out and use the pen of that color. The commands `pendown()` and `penup()` will cause Taylor to start drawing and stop drawing, respectively. Taylor is able to move around without drawing a line, if you want to experiment with that.\n",
        "\n",
        "[This is a list of all the colors that Taylor recognizes.](https://www.w3schools.com/colors/colors_names.asp)\n",
        "\n",
        "I have written a short algorithm for drawing a shape below. Before running that box, read the code and try to predict what the shape will look like. Once you have a good idea, run the code and see Taylor in action. "
      ],
      "metadata": {
        "id": "EDoQhSJYc_qp"
      }
    },
    {
      "cell_type": "code",
      "source": [
        "\n",
        "initializeTurtle() # Resets the turtle- call this at the top of your drawing\n",
        "\n",
        "bgcolor('black') # Sets the background color to black\n",
        "pendown() # Starts the turtle drawing\n",
        "\n",
        "color('blue')   # Sets the turtle's color to blue\n",
        "forward(100)    # Turtle walks forward 100 units\n",
        "right(90)       # Turtle turns right 90 degrees\n",
        "color('red')    # Sets the turtle's color to red\n",
        "forward(100)    # Turtle walks forward 100 units\n",
        "right(90)       # Turtle turns right 90 degrees\n",
        "color('green')  # Sets the turtle's color to green\n",
        "forward(100)    # Turtle walks forward 100 units\n",
        "right(90)       # Turtle turns right 90 degrees\n",
        "color('yellow') # Sets the turtle's color to yellow\n",
        "forward(100)    # Turtle walks forward 100 units\n",
        "\n",
        "penup() # Stops the turtle drawing\n"
      ],
      "metadata": {
        "id": "c2WxrHf-ZBY9"
      },
      "execution_count": null,
      "outputs": []
    },
    {
      "cell_type": "markdown",
      "source": [
        "\n",
        "Taylor had fun with that. I hope you did too.\n",
        "\n",
        "For the rest of the class period, I'd like you to try a few challenges with Taylor. Think about the algorithm above, and how you would change it to achieve each challenge. Or, do you have a creative idea of your own? Feel free to implement whatever sounds interesting to you.\n",
        "\n",
        "Taylor's challenges:\n",
        "\n",
        "1.   Draw a rectangle\n",
        "2.   Draw a triangle\n",
        "3.   Draw a pentagon\n",
        "4.   Draw a hexagon\n",
        "5.   Draw a star\n",
        "\n",
        "Challenges 2, 3, 4, and 5 might sound progressively harder. In fact, they're almost all the same. Start with thinking about the triangle and a square, then go from there.\n"
      ],
      "metadata": {
        "id": "tW5z0-MffcY6"
      }
    },
    {
      "cell_type": "code",
      "source": [
        "# Try some of the challenges above\n",
        "# You can create extra \"Code\" boxes to work in by clicking the \"+ Code\" button\n",
        "#   at the top left under \"File\" \n",
        "\n",
        "initializeTurtle() # Resets the turtle- call this at the top of your drawing\n",
        "\n",
        "bgcolor('black') # Sets the background color to black\n",
        "pendown() # Starts the turtle drawing\n",
        "\n",
        "#Turtle instructions go here\n",
        "\n",
        "penup() # Stops the turtle drawing\n"
      ],
      "metadata": {
        "id": "l5xALuqVfeED"
      },
      "execution_count": null,
      "outputs": []
    }
  ]
}
